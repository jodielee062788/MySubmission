{
 "cells": [
  {
   "cell_type": "markdown",
   "metadata": {},
   "source": [
    "<center>\n",
    "    <img src=\"https://s3-api.us-geo.objectstorage.softlayer.net/cf-courses-data/CognitiveClass/Logos/organization_logo/organization_logo.png\" width=\"300\" alt=\"cognitiveclass.ai logo\"  />\n",
    "</center>\n"
   ]
  },
  {
   "cell_type": "markdown",
   "metadata": {},
   "source": [
    "#### Add your code below following the instructions given in the course\n"
   ]
  },
  {
   "cell_type": "markdown",
   "metadata": {},
   "source": [
    "# My Jupyter Notebook on IBM Watson Studio"
   ]
  },
  {
   "cell_type": "markdown",
   "metadata": {},
   "source": [
    "__Jodie Lee__\n",
    "<br>\n",
    "I'm an optometrist but I want to learn about Data Science."
   ]
  },
  {
   "cell_type": "markdown",
   "metadata": {},
   "source": [
    "_I am interested in Data Science because it involves programming which I am very interested in learning._"
   ]
  },
  {
   "cell_type": "markdown",
   "metadata": {},
   "source": [
    "### The following code will tell if the value of x is a larger number or a smaller number."
   ]
  },
  {
   "cell_type": "code",
   "execution_count": 6,
   "metadata": {},
   "outputs": [
    {
     "name": "stdout",
     "output_type": "stream",
     "text": [
      "Larger number\n"
     ]
    }
   ],
   "source": [
    "x = 150\n",
    "if x > 99:\n",
    "    print(\"Larger number\")\n",
    "else:\n",
    "    print(\"Smaller number\")"
   ]
  },
  {
   "cell_type": "markdown",
   "metadata": {},
   "source": [
    "Here are some pictures of cute cats:\n",
    "<br>\n",
    "<ol>\n",
    "<li><img src=\"https://icatcare.org/app/uploads/2018/09/Scottish-fold.png\" width=400 height=400/></li><br>\n",
    "<li><img src=\"https://d3544la1u8djza.cloudfront.net/APHI/Blog/2016/10_October/persians/Persian+Cat+Facts+History+Personality+and+Care+_+ASPCA+Pet+Health+Insurance+_+white+Persian+cat+resting+on+a+brown+sofa-min.jpg\" width=400 height=400/></li><br>\n",
    "<li><img src=\"https://hips.hearstapps.com/hmg-prod.s3.amazonaws.com/images/why-cats-are-best-pets-1559241235.jpg?crop=1.00xw:0.753xh;0,0.137xh&resize=768:*\" width=400 height=400/></li>\n",
    "</ol>\n",
    "<br>\n",
    "\n",
    "|Cat|Color|Sex|\n",
    "|-----|-----|-----|\n",
    "|1|Gray|M|\n",
    "|2|White|F|\n",
    "|3|White|M|\n"
   ]
  }
 ],
 "metadata": {
  "kernelspec": {
   "display_name": "Python",
   "language": "python",
   "name": "conda-env-python-py"
  },
  "language_info": {
   "codemirror_mode": {
    "name": "ipython",
    "version": 3
   },
   "file_extension": ".py",
   "mimetype": "text/x-python",
   "name": "python",
   "nbconvert_exporter": "python",
   "pygments_lexer": "ipython3",
   "version": "3.7.12"
  }
 },
 "nbformat": 4,
 "nbformat_minor": 4
}
